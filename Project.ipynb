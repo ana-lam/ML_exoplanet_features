{
 "cells": [
  {
   "cell_type": "markdown",
   "metadata": {},
   "source": [
    "### ASTR 4260 Modeling the Universe\n",
    "### Final Project\n",
    "Ana Lam\n",
    "April 29, 2020"
   ]
  },
  {
   "cell_type": "markdown",
   "metadata": {},
   "source": [
    "Astronomers use many fundamental parameters to characterize exoplanets. The NASA exoplanet archive includes and classifies planets that meet the following criteria:\n",
    "* Mass is $\\leq$ 30 Jupiter masses\n",
    "* The planet is not free floating\n",
    "* Has undergone validation checks so that false positivity is unlikely\n",
    "* The above along with additional physical properties are published in peer-reviewed publications\n",
    "\n",
    "The majority of the confirmed exoplanets, however, do not have extracted observables  for each of the parameters. Therefore, it is of great interest to estimate these missing parameters. One way of estimating parameters, is by examining the relations between several different parameters.\n",
    "\n",
    "In 2019, Ulmer-Moll et al. conduted a examination of the mass-radius relation in exoplanets using random forests, a machine learning algorithm, to compute estimated radii from known mass observables from exoplanets. In this project, I will be using the random forests method to examine radius relations with different physical properties and conduct a feature importance test to determine the relation I will use to compute estimated radii."
   ]
  },
  {
   "cell_type": "markdown",
   "metadata": {},
   "source": [
    "#### I. Data Selection and Initial Inverstigation of Physical Properties\n",
    "The data that will be used is from NASA Exoplanet Archive's confirmed planets table."
   ]
  },
  {
   "cell_type": "code",
   "execution_count": 4,
   "metadata": {
    "scrolled": true
   },
   "outputs": [
    {
     "data": {
      "text/html": [
       "<div>\n",
       "<style scoped>\n",
       "    .dataframe tbody tr th:only-of-type {\n",
       "        vertical-align: middle;\n",
       "    }\n",
       "\n",
       "    .dataframe tbody tr th {\n",
       "        vertical-align: top;\n",
       "    }\n",
       "\n",
       "    .dataframe thead th {\n",
       "        text-align: right;\n",
       "    }\n",
       "</style>\n",
       "<table border=\"1\" class=\"dataframe\">\n",
       "  <thead>\n",
       "    <tr style=\"text-align: right;\">\n",
       "      <th></th>\n",
       "      <th>pl_name</th>\n",
       "      <th>pl_orbsmax</th>\n",
       "      <th>pl_orbeccen</th>\n",
       "      <th>st_dist</th>\n",
       "      <th>pl_eqt</th>\n",
       "      <th>pl_masse</th>\n",
       "      <th>pl_rade</th>\n",
       "      <th>st_metfe</th>\n",
       "    </tr>\n",
       "  </thead>\n",
       "  <tbody>\n",
       "    <tr>\n",
       "      <td>66</td>\n",
       "      <td>CoRoT-10 b</td>\n",
       "      <td>0.10550</td>\n",
       "      <td>0.53</td>\n",
       "      <td>345.0</td>\n",
       "      <td>600.0</td>\n",
       "      <td>874.000</td>\n",
       "      <td>10.87</td>\n",
       "      <td>0.26</td>\n",
       "    </tr>\n",
       "    <tr>\n",
       "      <td>67</td>\n",
       "      <td>CoRoT-11 b</td>\n",
       "      <td>0.04360</td>\n",
       "      <td>0.00</td>\n",
       "      <td>560.0</td>\n",
       "      <td>1657.0</td>\n",
       "      <td>740.510</td>\n",
       "      <td>16.03</td>\n",
       "      <td>-0.03</td>\n",
       "    </tr>\n",
       "    <tr>\n",
       "      <td>68</td>\n",
       "      <td>CoRoT-12 b</td>\n",
       "      <td>0.04016</td>\n",
       "      <td>0.07</td>\n",
       "      <td>1150.0</td>\n",
       "      <td>1442.0</td>\n",
       "      <td>291.438</td>\n",
       "      <td>16.14</td>\n",
       "      <td>0.16</td>\n",
       "    </tr>\n",
       "    <tr>\n",
       "      <td>69</td>\n",
       "      <td>CoRoT-13 b</td>\n",
       "      <td>0.05100</td>\n",
       "      <td>0.00</td>\n",
       "      <td>1060.0</td>\n",
       "      <td>1700.0</td>\n",
       "      <td>415.704</td>\n",
       "      <td>9.92</td>\n",
       "      <td>0.01</td>\n",
       "    </tr>\n",
       "    <tr>\n",
       "      <td>70</td>\n",
       "      <td>CoRoT-14 b</td>\n",
       "      <td>0.02700</td>\n",
       "      <td>0.00</td>\n",
       "      <td>1340.0</td>\n",
       "      <td>1952.0</td>\n",
       "      <td>2415.400</td>\n",
       "      <td>12.22</td>\n",
       "      <td>0.05</td>\n",
       "    </tr>\n",
       "  </tbody>\n",
       "</table>\n",
       "</div>"
      ],
      "text/plain": [
       "       pl_name  pl_orbsmax  pl_orbeccen  st_dist  pl_eqt  pl_masse  pl_rade  \\\n",
       "66  CoRoT-10 b     0.10550         0.53    345.0   600.0   874.000    10.87   \n",
       "67  CoRoT-11 b     0.04360         0.00    560.0  1657.0   740.510    16.03   \n",
       "68  CoRoT-12 b     0.04016         0.07   1150.0  1442.0   291.438    16.14   \n",
       "69  CoRoT-13 b     0.05100         0.00   1060.0  1700.0   415.704     9.92   \n",
       "70  CoRoT-14 b     0.02700         0.00   1340.0  1952.0  2415.400    12.22   \n",
       "\n",
       "    st_metfe  \n",
       "66      0.26  \n",
       "67     -0.03  \n",
       "68      0.16  \n",
       "69      0.01  \n",
       "70      0.05  "
      ]
     },
     "execution_count": 4,
     "metadata": {},
     "output_type": "execute_result"
    }
   ],
   "source": [
    "import numpy as np\n",
    "import csv\n",
    "import pandas as pd\n",
    "\n",
    "data = pd.read_csv(\"exoplanet_data.csv\")  # read in confirmed exoplanet data from NASA exoplanet archive\n",
    "data = data.dropna()\n",
    "data.head()"
   ]
  },
  {
   "cell_type": "markdown",
   "metadata": {},
   "source": [
    "To get an initial look at the relation trends, I will plot each physical property in relation with planet radii."
   ]
  },
  {
   "cell_type": "code",
   "execution_count": 5,
   "metadata": {
    "scrolled": false
   },
   "outputs": [
    {
     "data": {
      "image/png": "[encoded data removed]",
      "text/plain": [
       "<Figure size 720x720 with 6 Axes>"
      ]
     },
     "metadata": {
      "needs_background": "light"
     },
     "output_type": "display_data"
    }
   ],
   "source": [
    "import matplotlib.pyplot as plt\n",
    "\n",
    "figure, ((ax1, ax2), (ax3, ax4), (ax5, ax6)) = plt.subplots(3, 2, figsize=(10, 10))\n",
    "df = pd.DataFrame(data)\n",
    "\n",
    "df.plot(x = 'pl_masse', y = 'pl_rade', style ='.', label = 'exoplanets', ax=ax1) # plot mass-radius relation\n",
    "ax1.set_title(\"Mass vs. Radius\")\n",
    "ax1.set_xscale('log')\n",
    "ax1.set_yscale('log')\n",
    "ax1.set_xlabel(\"Mass ($M_\\oplus$)\")\n",
    "ax1.set_ylabel(\"Radius ($R_\\oplus$)\")\n",
    "df.plot(x = 'pl_orbsmax', y = 'pl_rade', style='.', label= 'exoplanets', ax=ax2) # plot orbit semi-major axis-radius relation\n",
    "ax2.set_xscale('log')\n",
    "ax2.set_yscale('log')\n",
    "ax2.set_title(\"Orbit Semi-Major Axis vs. Radius\")\n",
    "ax2.set_xlabel(\"Semi-Major Axis (Au)\")\n",
    "ax2.set_ylabel(\"Radius ($R_\\oplus$)\")\n",
    "df.plot(x = 'pl_orbeccen', y = 'pl_rade', style ='.', label = 'exoplanets', ax=ax3) # eccentricity-radius relation\n",
    "ax3.set_title(\"Eccentricity vs. Radius\")\n",
    "ax3.set_xlabel(\"Eccentricity\")\n",
    "ax3.set_ylabel(\"Radius ($R_\\oplus$)\")\n",
    "df.plot(x = 'st_dist', y = 'pl_rade', style ='.', label = 'exoplanets', ax=ax4) # stellar distance-radius relation\n",
    "ax4.set_title(\"Distance vs. Radius\")\n",
    "ax4.set_xscale('log')\n",
    "ax4.set_yscale('log')\n",
    "ax4.set_xlabel(\"Distance (pc)\")\n",
    "ax4.set_ylabel(\"Radius ($R_\\oplus$)\")\n",
    "df.plot(x = 'pl_eqt', y = 'pl_rade', style ='.', label = 'exoplanets', ax=ax5) # equilibrium temperature-radius relation\n",
    "ax5.set_title(\"Equilibrium Temperature vs. Radius\")\n",
    "ax5.set_xscale('log')\n",
    "ax5.set_yscale('log')\n",
    "ax5.set_xlabel(\"Equilibrium Temp (K)\")\n",
    "ax5.set_ylabel(\"Radius ($R_\\oplus$)\")\n",
    "df.plot(x = 'st_metfe', y = 'pl_rade', style ='.', label = 'exoplanets', ax=ax6) # stellar metallicity-radius relation\n",
    "ax6.set_title(\"Stellar Metallicity vs. Radius\")\n",
    "ax6.set_xlabel(\"Metallicity (dex)\")\n",
    "ax6.set_ylabel(\"Radius ($R_\\oplus$)\")\n",
    "\n",
    "plt.tight_layout()"
   ]
  },
  {
   "cell_type": "markdown",
   "metadata": {},
   "source": [
    "From the plots, it looks like the mass-radius relation has the most significant trend. This is consistent with what was established by Ulmer-Moll et al. "
   ]
  },
  {
   "cell_type": "markdown",
   "metadata": {},
   "source": [
    "#### II. Random Forest Alogrithm\n",
    "Create training and testing sets for Random Forests."
   ]
  },
  {
   "cell_type": "code",
   "execution_count": 10,
   "metadata": {},
   "outputs": [],
   "source": [
    "target = np.array(data['pl_rade'])  # convert dataframe of planet radii to array\n",
    "\n",
    "parameters = data.drop('pl_rade', axis=1) # select other physical properties\n",
    "\n",
    "parameter_list = list(parameters.columns)\n",
    "\n",
    "parameters = np.array(parameters) # convert physical properties data frame into array"
   ]
  },
  {
   "cell_type": "code",
   "execution_count": 11,
   "metadata": {},
   "outputs": [],
   "source": [
    "from sklearn.model_selection import train_test_split\n",
    "\n",
    "# create training and testing sets (75%-25% of data)\n",
    "\n",
    "train_parameters, test_parameters, train_target, test_target = train_test_split(parameters, target, test_size = 0.25, random_state = 42)"
   ]
  },
  {
   "cell_type": "code",
   "execution_count": 436,
   "metadata": {},
   "outputs": [
    {
     "name": "stdout",
     "output_type": "stream",
     "text": [
      "Training parameters shape: (242, 6)\n",
      "Training target shape: (242,)\n",
      "Testing parameters shape: (81, 6)\n",
      "Testing target shape: (81,)\n"
     ]
    }
   ],
   "source": [
    "print(\"Training parameters shape:\", train_parameters.shape)  # check shape of sets to confirm\n",
    "print(\"Training target shape:\", train_target.shape)\n",
    "print(\"Testing parameters shape:\", test_parameters.shape)\n",
    "print(\"Testing target shape:\", test_target.shape)"
   ]
  },
  {
   "cell_type": "code",
   "execution_count": 437,
   "metadata": {},
   "outputs": [
    {
     "data": {
      "text/plain": [
       "RandomForestRegressor(bootstrap=True, criterion='mse', max_depth=None,\n",
       "                      max_features='auto', max_leaf_nodes=None,\n",
       "                      min_impurity_decrease=0.0, min_impurity_split=None,\n",
       "                      min_samples_leaf=1, min_samples_split=2,\n",
       "                      min_weight_fraction_leaf=0.0, n_estimators=1000,\n",
       "                      n_jobs=None, oob_score=False, random_state=42, verbose=0,\n",
       "                      warm_start=False)"
      ]
     },
     "execution_count": 437,
     "metadata": {},
     "output_type": "execute_result"
    }
   ],
   "source": [
    "from sklearn.ensemble import RandomForestRegressor\n",
    "\n",
    "rf = RandomForestRegressor(n_estimators = 1000, random_state = 42) # estimate using random forest with 1000 trees\n",
    "rf.fit(train_parameters, train_target) # fit with random forest"
   ]
  },
  {
   "cell_type": "code",
   "execution_count": 438,
   "metadata": {},
   "outputs": [
    {
     "name": "stdout",
     "output_type": "stream",
     "text": [
      "Mean Absolute Error: 1.58 degrees\n"
     ]
    }
   ],
   "source": [
    "predict = rf.predict(test_parameters) # yield predicted y values with random forest\n",
    "errors = abs(predict - test_target) # calculate error\n",
    "\n",
    "print('Mean Absolute Error:', round(np.mean(errors), 2), 'degrees')"
   ]
  },
  {
   "cell_type": "code",
   "execution_count": 439,
   "metadata": {
    "scrolled": true
   },
   "outputs": [
    {
     "name": "stdout",
     "output_type": "stream",
     "text": [
      "Accuracy: 80.35 %\n"
     ]
    }
   ],
   "source": [
    "mean_absolute_percent_error = 100 * (errors/test_target) # percent error\n",
    "\n",
    "accuracy = 100 - np.mean(mean_absolute_percent_error) # calculate percent accuracy\n",
    "print('Accuracy:', round(accuracy, 2), '%')"
   ]
  },
  {
   "cell_type": "code",
   "execution_count": 274,
   "metadata": {},
   "outputs": [
    {
     "name": "stdout",
     "output_type": "stream",
     "text": [
      "Parameters in use: {'bootstrap': True, 'criterion': 'mse', 'max_depth': None, 'max_features': 'auto', 'max_leaf_nodes': None, 'min_impurity_decrease': 0.0, 'min_impurity_split': None, 'min_samples_leaf': 1, 'min_samples_split': 2, 'min_weight_fraction_leaf': 0.0, 'n_estimators': 1000, 'n_jobs': None, 'oob_score': False, 'random_state': 42, 'verbose': 0, 'warm_start': False}\n"
     ]
    }
   ],
   "source": [
    "print('Parameters in use:', rf.get_params()) # print parameters of random forest"
   ]
  },
  {
   "cell_type": "markdown",
   "metadata": {},
   "source": [
    "#### II. Optimizing the Random Forest Algorithm\n",
    "\n",
    "Now, I am going to go ahead and optimize the parameters for the random forest algorithm as suggested by the scikit-learn documentation to see if non-default parameters would work better."
   ]
  },
  {
   "cell_type": "code",
   "execution_count": 281,
   "metadata": {},
   "outputs": [],
   "source": [
    "n_estimators = [1000, 1500, 2000] # array of n estimators to test\n",
    "max_features = ['auto', 'sqrt', 'log2'] # array of max_features to test\n",
    "max_depth = [10, 20, 30] # array of max_depth values to test\n",
    "max_depth.append(None) \n",
    "min_samples_split = [2, 5, 10] # array of min_samples_split to test\n",
    "min_samples_leaf = [1, 2, 3] # array of min_samples_leaf to test\n",
    "bootstrap = [True, False] # bootstrap values to test\n",
    "\n",
    "random_grid = {'n_estimators': n_estimators,\n",
    "               'max_features': max_features,\n",
    "               'max_depth': max_depth,\n",
    "               'min_samples_split': min_samples_split,\n",
    "               'min_samples_leaf': min_samples_leaf,\n",
    "               'bootstrap': bootstrap} # create random grid to test parameters"
   ]
  },
  {
   "cell_type": "code",
   "execution_count": 284,
   "metadata": {},
   "outputs": [],
   "source": [
    "from sklearn.model_selection import RandomizedSearchCV\n",
    "\n",
    "rf_random = RandomizedSearchCV(estimator = rf, param_distributions = random_grid, n_iter = 200,\n",
    "                              cv = 5, verbose = 2, random_state = 4242, n_jobs = -1)\n",
    "# randomizedsearchCV for best parameters\n"
   ]
  },
  {
   "cell_type": "code",
   "execution_count": 285,
   "metadata": {},
   "outputs": [
    {
     "name": "stdout",
     "output_type": "stream",
     "text": [
      "Fitting 5 folds for each of 200 candidates, totalling 1000 fits\n"
     ]
    },
    {
     "name": "stderr",
     "output_type": "stream",
     "text": [
      "[Parallel(n_jobs=-1)]: Using backend LokyBackend with 8 concurrent workers.\n",
      "[Parallel(n_jobs=-1)]: Done  25 tasks      | elapsed:   26.2s\n",
      "[Parallel(n_jobs=-1)]: Done 146 tasks      | elapsed:  2.1min\n",
      "[Parallel(n_jobs=-1)]: Done 349 tasks      | elapsed:  4.6min\n",
      "[Parallel(n_jobs=-1)]: Done 632 tasks      | elapsed:  8.2min\n",
      "[Parallel(n_jobs=-1)]: Done 1000 out of 1000 | elapsed: 12.8min finished\n",
      "C:\\Users\\anakr\\Anaconda3\\lib\\site-packages\\sklearn\\model_selection\\_search.py:814: DeprecationWarning: The default of the `iid` parameter will change from True to False in version 0.22 and will be removed in 0.24. This will change numeric results when test-set sizes are unequal.\n",
      "  DeprecationWarning)\n"
     ]
    },
    {
     "name": "stdout",
     "output_type": "stream",
     "text": [
      "{'n_estimators': 2000, 'min_samples_split': 2, 'min_samples_leaf': 3, 'max_features': 'auto', 'max_depth': 10, 'bootstrap': True}\n"
     ]
    }
   ],
   "source": [
    "rf_random.fit(parameters, target)\n",
    "print(rf_random.best_params_) # yield best parameters"
   ]
  },
  {
   "cell_type": "markdown",
   "metadata": {},
   "source": [
    "We can now retrain the random forest to yield a better result."
   ]
  },
  {
   "cell_type": "code",
   "execution_count": 440,
   "metadata": {},
   "outputs": [
    {
     "data": {
      "text/plain": [
       "RandomForestRegressor(bootstrap=True, criterion='mse', max_depth=10,\n",
       "                      max_features='auto', max_leaf_nodes=None,\n",
       "                      min_impurity_decrease=0.0, min_impurity_split=None,\n",
       "                      min_samples_leaf=3, min_samples_split=2,\n",
       "                      min_weight_fraction_leaf=0.0, n_estimators=2000,\n",
       "                      n_jobs=None, oob_score=False, random_state=42, verbose=0,\n",
       "                      warm_start=False)"
      ]
     },
     "execution_count": 440,
     "metadata": {},
     "output_type": "execute_result"
    }
   ],
   "source": [
    "rf_best = RandomForestRegressor(n_estimators = 2000, max_depth = 10, min_samples_split = 2, min_samples_leaf = 3,\n",
    "                                max_features = 'auto', bootstrap = True, random_state = 42)\n",
    "rf_best.fit(train_parameters, train_target)"
   ]
  },
  {
   "cell_type": "code",
   "execution_count": 441,
   "metadata": {},
   "outputs": [
    {
     "name": "stdout",
     "output_type": "stream",
     "text": [
      "Mean Absolute Error: 1.56 degrees\n"
     ]
    }
   ],
   "source": [
    "predict_best = rf_best.predict(test_parameters)\n",
    "errors_best = abs(predict_best - test_target)\n",
    "\n",
    "print('Mean Absolute Error:', round(np.mean(errors_best), 2), 'degrees')"
   ]
  },
  {
   "cell_type": "code",
   "execution_count": 442,
   "metadata": {},
   "outputs": [
    {
     "name": "stdout",
     "output_type": "stream",
     "text": [
      "Accuracy: 80.44 %\n"
     ]
    }
   ],
   "source": [
    "mean_absolute_percent_error_best = 100 * (errors_best/test_target)\n",
    "\n",
    "accuracy_best = 100 - np.mean(mean_absolute_percent_error_best)\n",
    "print('Accuracy:', round(accuracy_best, 2), '%')"
   ]
  },
  {
   "cell_type": "markdown",
   "metadata": {},
   "source": [
    "So we gained 0.09% accuracy.\n",
    "\n",
    "#### III. Best Features Investigation\n",
    "\n",
    "Now, we can investigate which feature is most important in determining planet radii."
   ]
  },
  {
   "cell_type": "code",
   "execution_count": 310,
   "metadata": {},
   "outputs": [
    {
     "name": "stdout",
     "output_type": "stream",
     "text": [
      "['pl_orbsmax' 'pl_orbeccen' 'st_dist' 'pl_eqt' 'pl_masse' 'st_metfe']\n"
     ]
    },
    {
     "data": {
      "image/png": "[encoded data removed]",
      "text/plain": [
       "<Figure size 432x288 with 1 Axes>"
      ]
     },
     "metadata": {
      "needs_background": "light"
     },
     "output_type": "display_data"
    }
   ],
   "source": [
    "importance = rf_best.feature_importances_ # scikit-learn best feature importance computation\n",
    "features = np.array(data.columns) # features = semi-major orbital axis, eccentricity, stellar distance, \n",
    "                                        #equilibrium temperature, planet mass, and stellar metallicity\n",
    "features = np.delete(features, 5) # delete planet radius\n",
    "\n",
    "plt.bar(features, importance) # plot importance of features\n",
    "plt.xlabel(\"Features\")\n",
    "plt.ylabel(\"Importance\")\n",
    "print(features)"
   ]
  },
  {
   "cell_type": "markdown",
   "metadata": {},
   "source": [
    "Planet mass is a significant feature that determines planet radius. In fact, it vastly surpasses most other features. \n",
    "\n",
    "#### IV. Mass-Radius Relation\n",
    "\n",
    "I will graph the mass-radius relation once again. We can select the mass and radius data and fit a linear regression to its relationship."
   ]
  },
  {
   "cell_type": "code",
   "execution_count": 21,
   "metadata": {},
   "outputs": [
    {
     "data": {
      "image/png": "[encoded data removed]",
      "text/plain": [
       "<Figure size 432x288 with 1 Axes>"
      ]
     },
     "metadata": {
      "needs_background": "light"
     },
     "output_type": "display_data"
    }
   ],
   "source": [
    "df.plot(x = 'pl_masse', y = 'pl_rade', style='.', label = 'exoplanets')\n",
    "plt.yscale('log')\n",
    "plt.xscale('log')\n",
    "plt.xlabel(\"Mass ($M_\\oplus$)\")\n",
    "plt.ylabel(\"Radius ($R_\\oplus$)\")\n",
    "plt.show()"
   ]
  },
  {
   "cell_type": "code",
   "execution_count": 12,
   "metadata": {},
   "outputs": [],
   "source": [
    "from sklearn.linear_model import LinearRegression\n",
    "\n",
    "x = data['pl_masse'].values.reshape(-1,1)  # extract mass data\n",
    "log_x = np.log(x)\n",
    "y = data['pl_rade'].values.reshape(-1,1) # extract radius data\n",
    "log_y = np.log(y)"
   ]
  },
  {
   "cell_type": "code",
   "execution_count": 13,
   "metadata": {},
   "outputs": [],
   "source": [
    "x_train, x_test, y_train, y_test = train_test_split(log_x, log_y, test_size = 0.2, random_state=420) # create train-test set"
   ]
  },
  {
   "cell_type": "code",
   "execution_count": 14,
   "metadata": {},
   "outputs": [
    {
     "data": {
      "text/plain": [
       "LinearRegression(copy_X=True, fit_intercept=True, n_jobs=None, normalize=False)"
      ]
     },
     "execution_count": 14,
     "metadata": {},
     "output_type": "execute_result"
    }
   ],
   "source": [
    "reg = LinearRegression() # linear regression\n",
    "reg.fit(x_train, y_train) # fit linear regression"
   ]
  },
  {
   "cell_type": "code",
   "execution_count": 15,
   "metadata": {},
   "outputs": [
    {
     "name": "stdout",
     "output_type": "stream",
     "text": [
      "[0.25980704]\n",
      "[[0.39285584]]\n"
     ]
    }
   ],
   "source": [
    "print(reg.intercept_) # linear intercept\n",
    "print(reg.coef_) # coefficient of linear relationship"
   ]
  },
  {
   "cell_type": "code",
   "execution_count": 16,
   "metadata": {},
   "outputs": [],
   "source": [
    "y_pred = reg.predict(log_x) # yield predicted radius values based on linear regression"
   ]
  },
  {
   "cell_type": "code",
   "execution_count": 22,
   "metadata": {},
   "outputs": [
    {
     "data": {
      "image/png": "[encoded data removed]",
      "text/plain": [
       "<Figure size 432x288 with 1 Axes>"
      ]
     },
     "metadata": {
      "needs_background": "light"
     },
     "output_type": "display_data"
    }
   ],
   "source": [
    "plt.scatter(log_x, log_y) \n",
    "plt.plot(log_x, y_pred, color='orange')\n",
    "plt.xlabel(\"Mass ($M_\\oplus$)\")\n",
    "plt.ylabel(\"Radius ($R_\\oplus$)\")\n",
    "plt.show()"
   ]
  },
  {
   "cell_type": "markdown",
   "metadata": {},
   "source": [
    "Here we can see the linear regression of the mass-radius data. Below, I calculate the error and accuracy."
   ]
  },
  {
   "cell_type": "code",
   "execution_count": 449,
   "metadata": {},
   "outputs": [
    {
     "name": "stdout",
     "output_type": "stream",
     "text": [
      "Mean Absolute Error: 0.37 degrees\n",
      "Accuracy: 73.5 %\n"
     ]
    }
   ],
   "source": [
    "errors_y = abs(y_pred - y_test)\n",
    "\n",
    "print('Mean Absolute Error:', round(np.mean(errors_y), 2), 'degrees')\n",
    "\n",
    "mean_absolute_percent_error_y = 100 * (errors_y/y_test)\n",
    "\n",
    "accuracy_y = 100 - np.mean(mean_absolute_percent_error_y)\n",
    "print('Accuracy:', round(accuracy_y, 2), '%')"
   ]
  },
  {
   "cell_type": "code",
   "execution_count": 450,
   "metadata": {},
   "outputs": [
    {
     "name": "stdout",
     "output_type": "stream",
     "text": [
      "Mean Absolute Error: 8.05 degrees\n",
      "Accuracy: -293.99 %\n"
     ]
    }
   ],
   "source": [
    "data_com = pd.read_csv(\"exoplanet_data.csv\")\n",
    "data_com = data_com[data_com['pl_masse'].notna()]\n",
    "\n",
    "reg_all = LinearRegression()\n",
    "reg_all.fit(x, y)\n",
    "\n",
    "x_com = np.array(data_com['pl_masse']).reshape(-1,1)\n",
    "y_pred = reg_all.predict(x_com)\n",
    "\n",
    "\n",
    "data_com = data_com[['pl_name','pl_masse', 'pl_rade']]\n",
    "data_com['pl_rade_exp'] = y_pred\n",
    "\n",
    "data_com.head(20)\n",
    "\n",
    "for index, row in data_com.iterrows():\n",
    "    error = abs(row['pl_rade']-row['pl_rade_exp'])\n",
    "\n",
    "print('Mean Absolute Error:', round(np.mean(error), 2), 'degrees')\n",
    "\n",
    "for index, row in data_com.iterrows():\n",
    "    mean_absolute_percent_error = 100 * (error/row['pl_rade'])\n",
    "    \n",
    "accuracy = 100 - np.mean(mean_absolute_percent_error)\n",
    "print('Accuracy:', round(accuracy, 2), '%')"
   ]
  },
  {
   "cell_type": "markdown",
   "metadata": {},
   "source": [
    "Obviously there is something wrong with this code. However, looking back at the plot above, I am very happy with the linear regression's fit to the mass-radius data."
   ]
  }
 ],
 "metadata": {
  "kernelspec": {
   "display_name": "Python 3",
   "language": "python",
   "name": "python3"
  },
  "language_info": {
   "codemirror_mode": {
    "name": "ipython",
    "version": 3
   },
   "file_extension": ".py",
   "mimetype": "text/x-python",
   "name": "python",
   "nbconvert_exporter": "python",
   "pygments_lexer": "ipython3",
   "version": "3.7.4"
  }
 },
 "nbformat": 4,
 "nbformat_minor": 2
}
